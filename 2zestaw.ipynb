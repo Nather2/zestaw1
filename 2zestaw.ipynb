{
 "cells": [
  {
   "cell_type": "code",
   "execution_count": 1,
   "metadata": {},
   "outputs": [],
   "source": [
    "import pandas as pd\n",
    "import matplotlib.pyplot as plt\n",
    "import numpy as np\n",
    "from sklearn import linear_model\n",
    "from scipy import stats"
   ]
  },
  {
   "cell_type": "code",
   "execution_count": 2,
   "metadata": {},
   "outputs": [],
   "source": [
    "df = pd.read_csv('survey_results_public.csv',\n",
    "                        usecols=['CodeRevHrs', 'CompTotal', 'ConvertedComp', 'WorkWeekHrs', 'Age'],)\n"
   ]
  },
  {
   "cell_type": "code",
   "execution_count": 3,
   "metadata": {},
   "outputs": [
    {
     "data": {
      "text/html": [
       "<div>\n",
       "<style scoped>\n",
       "    .dataframe tbody tr th:only-of-type {\n",
       "        vertical-align: middle;\n",
       "    }\n",
       "\n",
       "    .dataframe tbody tr th {\n",
       "        vertical-align: top;\n",
       "    }\n",
       "\n",
       "    .dataframe thead th {\n",
       "        text-align: right;\n",
       "    }\n",
       "</style>\n",
       "<table border=\"1\" class=\"dataframe\">\n",
       "  <thead>\n",
       "    <tr style=\"text-align: right;\">\n",
       "      <th></th>\n",
       "      <th>CompTotal</th>\n",
       "      <th>ConvertedComp</th>\n",
       "      <th>WorkWeekHrs</th>\n",
       "      <th>CodeRevHrs</th>\n",
       "      <th>Age</th>\n",
       "    </tr>\n",
       "  </thead>\n",
       "  <tbody>\n",
       "    <tr>\n",
       "      <th>CompTotal</th>\n",
       "      <td>1.000000</td>\n",
       "      <td>0.068370</td>\n",
       "      <td>-0.012694</td>\n",
       "      <td>-0.026039</td>\n",
       "      <td>0.014145</td>\n",
       "    </tr>\n",
       "    <tr>\n",
       "      <th>ConvertedComp</th>\n",
       "      <td>0.068370</td>\n",
       "      <td>1.000000</td>\n",
       "      <td>0.001667</td>\n",
       "      <td>-0.064162</td>\n",
       "      <td>0.085386</td>\n",
       "    </tr>\n",
       "    <tr>\n",
       "      <th>WorkWeekHrs</th>\n",
       "      <td>-0.012694</td>\n",
       "      <td>0.001667</td>\n",
       "      <td>1.000000</td>\n",
       "      <td>0.020085</td>\n",
       "      <td>0.014590</td>\n",
       "    </tr>\n",
       "    <tr>\n",
       "      <th>CodeRevHrs</th>\n",
       "      <td>-0.026039</td>\n",
       "      <td>-0.064162</td>\n",
       "      <td>0.020085</td>\n",
       "      <td>1.000000</td>\n",
       "      <td>-0.041303</td>\n",
       "    </tr>\n",
       "    <tr>\n",
       "      <th>Age</th>\n",
       "      <td>0.014145</td>\n",
       "      <td>0.085386</td>\n",
       "      <td>0.014590</td>\n",
       "      <td>-0.041303</td>\n",
       "      <td>1.000000</td>\n",
       "    </tr>\n",
       "  </tbody>\n",
       "</table>\n",
       "</div>"
      ],
      "text/plain": [
       "               CompTotal  ConvertedComp  WorkWeekHrs  CodeRevHrs       Age\n",
       "CompTotal       1.000000       0.068370    -0.012694   -0.026039  0.014145\n",
       "ConvertedComp   0.068370       1.000000     0.001667   -0.064162  0.085386\n",
       "WorkWeekHrs    -0.012694       0.001667     1.000000    0.020085  0.014590\n",
       "CodeRevHrs     -0.026039      -0.064162     0.020085    1.000000 -0.041303\n",
       "Age             0.014145       0.085386     0.014590   -0.041303  1.000000"
      ]
     },
     "execution_count": 3,
     "metadata": {},
     "output_type": "execute_result"
    }
   ],
   "source": [
    "df.corr()"
   ]
  },
  {
   "cell_type": "code",
   "execution_count": 4,
   "metadata": {},
   "outputs": [],
   "source": [
    "df_sd = df[np.abs(df - df.mean()) <= 3*df.std()]\n",
    "\n",
    "df_sd.isna().sum()\n",
    "df_sd = df_sd.dropna()"
   ]
  },
  {
   "cell_type": "code",
   "execution_count": 5,
   "metadata": {},
   "outputs": [
    {
     "data": {
      "text/html": [
       "<div>\n",
       "<style scoped>\n",
       "    .dataframe tbody tr th:only-of-type {\n",
       "        vertical-align: middle;\n",
       "    }\n",
       "\n",
       "    .dataframe tbody tr th {\n",
       "        vertical-align: top;\n",
       "    }\n",
       "\n",
       "    .dataframe thead th {\n",
       "        text-align: right;\n",
       "    }\n",
       "</style>\n",
       "<table border=\"1\" class=\"dataframe\">\n",
       "  <thead>\n",
       "    <tr style=\"text-align: right;\">\n",
       "      <th></th>\n",
       "      <th>CompTotal</th>\n",
       "      <th>ConvertedComp</th>\n",
       "      <th>WorkWeekHrs</th>\n",
       "      <th>CodeRevHrs</th>\n",
       "      <th>Age</th>\n",
       "    </tr>\n",
       "  </thead>\n",
       "  <tbody>\n",
       "    <tr>\n",
       "      <th>8</th>\n",
       "      <td>138000.0</td>\n",
       "      <td>95179.0</td>\n",
       "      <td>32.0</td>\n",
       "      <td>12.0</td>\n",
       "      <td>23.0</td>\n",
       "    </tr>\n",
       "    <tr>\n",
       "      <th>12</th>\n",
       "      <td>90000.0</td>\n",
       "      <td>90000.0</td>\n",
       "      <td>40.0</td>\n",
       "      <td>5.0</td>\n",
       "      <td>28.0</td>\n",
       "    </tr>\n",
       "    <tr>\n",
       "      <th>13</th>\n",
       "      <td>4150.0</td>\n",
       "      <td>57060.0</td>\n",
       "      <td>40.0</td>\n",
       "      <td>4.0</td>\n",
       "      <td>31.0</td>\n",
       "    </tr>\n",
       "    <tr>\n",
       "      <th>16</th>\n",
       "      <td>90000.0</td>\n",
       "      <td>65277.0</td>\n",
       "      <td>45.0</td>\n",
       "      <td>5.0</td>\n",
       "      <td>29.0</td>\n",
       "    </tr>\n",
       "    <tr>\n",
       "      <th>18</th>\n",
       "      <td>9500.0</td>\n",
       "      <td>31140.0</td>\n",
       "      <td>8.0</td>\n",
       "      <td>3.0</td>\n",
       "      <td>31.0</td>\n",
       "    </tr>\n",
       "    <tr>\n",
       "      <th>...</th>\n",
       "      <td>...</td>\n",
       "      <td>...</td>\n",
       "      <td>...</td>\n",
       "      <td>...</td>\n",
       "      <td>...</td>\n",
       "    </tr>\n",
       "    <tr>\n",
       "      <th>2988</th>\n",
       "      <td>100000.0</td>\n",
       "      <td>18336.0</td>\n",
       "      <td>40.0</td>\n",
       "      <td>2.0</td>\n",
       "      <td>30.0</td>\n",
       "    </tr>\n",
       "    <tr>\n",
       "      <th>2989</th>\n",
       "      <td>500000.0</td>\n",
       "      <td>6996.0</td>\n",
       "      <td>40.0</td>\n",
       "      <td>5.0</td>\n",
       "      <td>24.0</td>\n",
       "    </tr>\n",
       "    <tr>\n",
       "      <th>2990</th>\n",
       "      <td>4600.0</td>\n",
       "      <td>8184.0</td>\n",
       "      <td>9.0</td>\n",
       "      <td>5.0</td>\n",
       "      <td>23.0</td>\n",
       "    </tr>\n",
       "    <tr>\n",
       "      <th>2995</th>\n",
       "      <td>23000.0</td>\n",
       "      <td>75876.0</td>\n",
       "      <td>45.0</td>\n",
       "      <td>3.0</td>\n",
       "      <td>29.0</td>\n",
       "    </tr>\n",
       "    <tr>\n",
       "      <th>2998</th>\n",
       "      <td>7500.0</td>\n",
       "      <td>24048.0</td>\n",
       "      <td>40.0</td>\n",
       "      <td>8.0</td>\n",
       "      <td>23.0</td>\n",
       "    </tr>\n",
       "  </tbody>\n",
       "</table>\n",
       "<p>1290 rows × 5 columns</p>\n",
       "</div>"
      ],
      "text/plain": [
       "      CompTotal  ConvertedComp  WorkWeekHrs  CodeRevHrs   Age\n",
       "8      138000.0        95179.0         32.0        12.0  23.0\n",
       "12      90000.0        90000.0         40.0         5.0  28.0\n",
       "13       4150.0        57060.0         40.0         4.0  31.0\n",
       "16      90000.0        65277.0         45.0         5.0  29.0\n",
       "18       9500.0        31140.0          8.0         3.0  31.0\n",
       "...         ...            ...          ...         ...   ...\n",
       "2988   100000.0        18336.0         40.0         2.0  30.0\n",
       "2989   500000.0         6996.0         40.0         5.0  24.0\n",
       "2990     4600.0         8184.0          9.0         5.0  23.0\n",
       "2995    23000.0        75876.0         45.0         3.0  29.0\n",
       "2998     7500.0        24048.0         40.0         8.0  23.0\n",
       "\n",
       "[1290 rows x 5 columns]"
      ]
     },
     "execution_count": 5,
     "metadata": {},
     "output_type": "execute_result"
    }
   ],
   "source": [
    "df_sd"
   ]
  },
  {
   "cell_type": "code",
   "execution_count": 6,
   "metadata": {},
   "outputs": [
    {
     "data": {
      "text/html": [
       "<div>\n",
       "<style scoped>\n",
       "    .dataframe tbody tr th:only-of-type {\n",
       "        vertical-align: middle;\n",
       "    }\n",
       "\n",
       "    .dataframe tbody tr th {\n",
       "        vertical-align: top;\n",
       "    }\n",
       "\n",
       "    .dataframe thead th {\n",
       "        text-align: right;\n",
       "    }\n",
       "</style>\n",
       "<table border=\"1\" class=\"dataframe\">\n",
       "  <thead>\n",
       "    <tr style=\"text-align: right;\">\n",
       "      <th></th>\n",
       "      <th>CompTotal</th>\n",
       "      <th>ConvertedComp</th>\n",
       "      <th>WorkWeekHrs</th>\n",
       "      <th>CodeRevHrs</th>\n",
       "      <th>Age</th>\n",
       "    </tr>\n",
       "  </thead>\n",
       "  <tbody>\n",
       "    <tr>\n",
       "      <th>CompTotal</th>\n",
       "      <td>1.000000</td>\n",
       "      <td>0.068370</td>\n",
       "      <td>-0.012694</td>\n",
       "      <td>-0.026039</td>\n",
       "      <td>0.014145</td>\n",
       "    </tr>\n",
       "    <tr>\n",
       "      <th>ConvertedComp</th>\n",
       "      <td>0.068370</td>\n",
       "      <td>1.000000</td>\n",
       "      <td>0.001667</td>\n",
       "      <td>-0.064162</td>\n",
       "      <td>0.085386</td>\n",
       "    </tr>\n",
       "    <tr>\n",
       "      <th>WorkWeekHrs</th>\n",
       "      <td>-0.012694</td>\n",
       "      <td>0.001667</td>\n",
       "      <td>1.000000</td>\n",
       "      <td>0.020085</td>\n",
       "      <td>0.014590</td>\n",
       "    </tr>\n",
       "    <tr>\n",
       "      <th>CodeRevHrs</th>\n",
       "      <td>-0.026039</td>\n",
       "      <td>-0.064162</td>\n",
       "      <td>0.020085</td>\n",
       "      <td>1.000000</td>\n",
       "      <td>-0.041303</td>\n",
       "    </tr>\n",
       "    <tr>\n",
       "      <th>Age</th>\n",
       "      <td>0.014145</td>\n",
       "      <td>0.085386</td>\n",
       "      <td>0.014590</td>\n",
       "      <td>-0.041303</td>\n",
       "      <td>1.000000</td>\n",
       "    </tr>\n",
       "  </tbody>\n",
       "</table>\n",
       "</div>"
      ],
      "text/plain": [
       "               CompTotal  ConvertedComp  WorkWeekHrs  CodeRevHrs       Age\n",
       "CompTotal       1.000000       0.068370    -0.012694   -0.026039  0.014145\n",
       "ConvertedComp   0.068370       1.000000     0.001667   -0.064162  0.085386\n",
       "WorkWeekHrs    -0.012694       0.001667     1.000000    0.020085  0.014590\n",
       "CodeRevHrs     -0.026039      -0.064162     0.020085    1.000000 -0.041303\n",
       "Age             0.014145       0.085386     0.014590   -0.041303  1.000000"
      ]
     },
     "execution_count": 6,
     "metadata": {},
     "output_type": "execute_result"
    }
   ],
   "source": [
    "df.corr()"
   ]
  },
  {
   "cell_type": "code",
   "execution_count": 7,
   "metadata": {},
   "outputs": [
    {
     "data": {
      "text/html": [
       "<div>\n",
       "<style scoped>\n",
       "    .dataframe tbody tr th:only-of-type {\n",
       "        vertical-align: middle;\n",
       "    }\n",
       "\n",
       "    .dataframe tbody tr th {\n",
       "        vertical-align: top;\n",
       "    }\n",
       "\n",
       "    .dataframe thead th {\n",
       "        text-align: right;\n",
       "    }\n",
       "</style>\n",
       "<table border=\"1\" class=\"dataframe\">\n",
       "  <thead>\n",
       "    <tr style=\"text-align: right;\">\n",
       "      <th></th>\n",
       "      <th>CompTotal</th>\n",
       "      <th>ConvertedComp</th>\n",
       "      <th>WorkWeekHrs</th>\n",
       "      <th>CodeRevHrs</th>\n",
       "      <th>Age</th>\n",
       "    </tr>\n",
       "  </thead>\n",
       "  <tbody>\n",
       "    <tr>\n",
       "      <th>CompTotal</th>\n",
       "      <td>1.000000</td>\n",
       "      <td>-0.036394</td>\n",
       "      <td>-0.023526</td>\n",
       "      <td>-0.026279</td>\n",
       "      <td>0.020675</td>\n",
       "    </tr>\n",
       "    <tr>\n",
       "      <th>ConvertedComp</th>\n",
       "      <td>-0.036394</td>\n",
       "      <td>1.000000</td>\n",
       "      <td>0.062595</td>\n",
       "      <td>-0.064897</td>\n",
       "      <td>0.151638</td>\n",
       "    </tr>\n",
       "    <tr>\n",
       "      <th>WorkWeekHrs</th>\n",
       "      <td>-0.023526</td>\n",
       "      <td>0.062595</td>\n",
       "      <td>1.000000</td>\n",
       "      <td>0.118773</td>\n",
       "      <td>0.107978</td>\n",
       "    </tr>\n",
       "    <tr>\n",
       "      <th>CodeRevHrs</th>\n",
       "      <td>-0.026279</td>\n",
       "      <td>-0.064897</td>\n",
       "      <td>0.118773</td>\n",
       "      <td>1.000000</td>\n",
       "      <td>-0.040753</td>\n",
       "    </tr>\n",
       "    <tr>\n",
       "      <th>Age</th>\n",
       "      <td>0.020675</td>\n",
       "      <td>0.151638</td>\n",
       "      <td>0.107978</td>\n",
       "      <td>-0.040753</td>\n",
       "      <td>1.000000</td>\n",
       "    </tr>\n",
       "  </tbody>\n",
       "</table>\n",
       "</div>"
      ],
      "text/plain": [
       "               CompTotal  ConvertedComp  WorkWeekHrs  CodeRevHrs       Age\n",
       "CompTotal       1.000000      -0.036394    -0.023526   -0.026279  0.020675\n",
       "ConvertedComp  -0.036394       1.000000     0.062595   -0.064897  0.151638\n",
       "WorkWeekHrs    -0.023526       0.062595     1.000000    0.118773  0.107978\n",
       "CodeRevHrs     -0.026279      -0.064897     0.118773    1.000000 -0.040753\n",
       "Age             0.020675       0.151638     0.107978   -0.040753  1.000000"
      ]
     },
     "execution_count": 7,
     "metadata": {},
     "output_type": "execute_result"
    }
   ],
   "source": [
    "df_sd.corr()"
   ]
  },
  {
   "cell_type": "code",
   "execution_count": 8,
   "metadata": {},
   "outputs": [
    {
     "name": "stdout",
     "output_type": "stream",
     "text": [
      "CompTotal        103000.0\n",
      "ConvertedComp     73330.0\n",
      "WorkWeekHrs           5.0\n",
      "CodeRevHrs            4.0\n",
      "Age                  11.0\n",
      "dtype: float64\n"
     ]
    }
   ],
   "source": [
    "Q1 = df.quantile(0.25)\n",
    "Q3 = df.quantile(0.75)\n",
    "IQR = Q3 - Q1\n",
    "print(IQR)\n",
    "\n",
    "df_q = df[~((df < (Q1 - 1.5 * IQR)) | (df > (Q3 + 1.5 * IQR))).any(axis=1)]"
   ]
  },
  {
   "cell_type": "code",
   "execution_count": 9,
   "metadata": {},
   "outputs": [
    {
     "data": {
      "text/html": [
       "<div>\n",
       "<style scoped>\n",
       "    .dataframe tbody tr th:only-of-type {\n",
       "        vertical-align: middle;\n",
       "    }\n",
       "\n",
       "    .dataframe tbody tr th {\n",
       "        vertical-align: top;\n",
       "    }\n",
       "\n",
       "    .dataframe thead th {\n",
       "        text-align: right;\n",
       "    }\n",
       "</style>\n",
       "<table border=\"1\" class=\"dataframe\">\n",
       "  <thead>\n",
       "    <tr style=\"text-align: right;\">\n",
       "      <th></th>\n",
       "      <th>CompTotal</th>\n",
       "      <th>ConvertedComp</th>\n",
       "      <th>WorkWeekHrs</th>\n",
       "      <th>CodeRevHrs</th>\n",
       "      <th>Age</th>\n",
       "    </tr>\n",
       "  </thead>\n",
       "  <tbody>\n",
       "    <tr>\n",
       "      <th>CompTotal</th>\n",
       "      <td>1.000000</td>\n",
       "      <td>0.068370</td>\n",
       "      <td>-0.012694</td>\n",
       "      <td>-0.026039</td>\n",
       "      <td>0.014145</td>\n",
       "    </tr>\n",
       "    <tr>\n",
       "      <th>ConvertedComp</th>\n",
       "      <td>0.068370</td>\n",
       "      <td>1.000000</td>\n",
       "      <td>0.001667</td>\n",
       "      <td>-0.064162</td>\n",
       "      <td>0.085386</td>\n",
       "    </tr>\n",
       "    <tr>\n",
       "      <th>WorkWeekHrs</th>\n",
       "      <td>-0.012694</td>\n",
       "      <td>0.001667</td>\n",
       "      <td>1.000000</td>\n",
       "      <td>0.020085</td>\n",
       "      <td>0.014590</td>\n",
       "    </tr>\n",
       "    <tr>\n",
       "      <th>CodeRevHrs</th>\n",
       "      <td>-0.026039</td>\n",
       "      <td>-0.064162</td>\n",
       "      <td>0.020085</td>\n",
       "      <td>1.000000</td>\n",
       "      <td>-0.041303</td>\n",
       "    </tr>\n",
       "    <tr>\n",
       "      <th>Age</th>\n",
       "      <td>0.014145</td>\n",
       "      <td>0.085386</td>\n",
       "      <td>0.014590</td>\n",
       "      <td>-0.041303</td>\n",
       "      <td>1.000000</td>\n",
       "    </tr>\n",
       "  </tbody>\n",
       "</table>\n",
       "</div>"
      ],
      "text/plain": [
       "               CompTotal  ConvertedComp  WorkWeekHrs  CodeRevHrs       Age\n",
       "CompTotal       1.000000       0.068370    -0.012694   -0.026039  0.014145\n",
       "ConvertedComp   0.068370       1.000000     0.001667   -0.064162  0.085386\n",
       "WorkWeekHrs    -0.012694       0.001667     1.000000    0.020085  0.014590\n",
       "CodeRevHrs     -0.026039      -0.064162     0.020085    1.000000 -0.041303\n",
       "Age             0.014145       0.085386     0.014590   -0.041303  1.000000"
      ]
     },
     "execution_count": 9,
     "metadata": {},
     "output_type": "execute_result"
    }
   ],
   "source": [
    "df.corr()"
   ]
  },
  {
   "cell_type": "code",
   "execution_count": 10,
   "metadata": {},
   "outputs": [
    {
     "data": {
      "text/html": [
       "<div>\n",
       "<style scoped>\n",
       "    .dataframe tbody tr th:only-of-type {\n",
       "        vertical-align: middle;\n",
       "    }\n",
       "\n",
       "    .dataframe tbody tr th {\n",
       "        vertical-align: top;\n",
       "    }\n",
       "\n",
       "    .dataframe thead th {\n",
       "        text-align: right;\n",
       "    }\n",
       "</style>\n",
       "<table border=\"1\" class=\"dataframe\">\n",
       "  <thead>\n",
       "    <tr style=\"text-align: right;\">\n",
       "      <th></th>\n",
       "      <th>CompTotal</th>\n",
       "      <th>ConvertedComp</th>\n",
       "      <th>WorkWeekHrs</th>\n",
       "      <th>CodeRevHrs</th>\n",
       "      <th>Age</th>\n",
       "    </tr>\n",
       "  </thead>\n",
       "  <tbody>\n",
       "    <tr>\n",
       "      <th>CompTotal</th>\n",
       "      <td>1.000000</td>\n",
       "      <td>-0.036394</td>\n",
       "      <td>-0.023526</td>\n",
       "      <td>-0.026279</td>\n",
       "      <td>0.020675</td>\n",
       "    </tr>\n",
       "    <tr>\n",
       "      <th>ConvertedComp</th>\n",
       "      <td>-0.036394</td>\n",
       "      <td>1.000000</td>\n",
       "      <td>0.062595</td>\n",
       "      <td>-0.064897</td>\n",
       "      <td>0.151638</td>\n",
       "    </tr>\n",
       "    <tr>\n",
       "      <th>WorkWeekHrs</th>\n",
       "      <td>-0.023526</td>\n",
       "      <td>0.062595</td>\n",
       "      <td>1.000000</td>\n",
       "      <td>0.118773</td>\n",
       "      <td>0.107978</td>\n",
       "    </tr>\n",
       "    <tr>\n",
       "      <th>CodeRevHrs</th>\n",
       "      <td>-0.026279</td>\n",
       "      <td>-0.064897</td>\n",
       "      <td>0.118773</td>\n",
       "      <td>1.000000</td>\n",
       "      <td>-0.040753</td>\n",
       "    </tr>\n",
       "    <tr>\n",
       "      <th>Age</th>\n",
       "      <td>0.020675</td>\n",
       "      <td>0.151638</td>\n",
       "      <td>0.107978</td>\n",
       "      <td>-0.040753</td>\n",
       "      <td>1.000000</td>\n",
       "    </tr>\n",
       "  </tbody>\n",
       "</table>\n",
       "</div>"
      ],
      "text/plain": [
       "               CompTotal  ConvertedComp  WorkWeekHrs  CodeRevHrs       Age\n",
       "CompTotal       1.000000      -0.036394    -0.023526   -0.026279  0.020675\n",
       "ConvertedComp  -0.036394       1.000000     0.062595   -0.064897  0.151638\n",
       "WorkWeekHrs    -0.023526       0.062595     1.000000    0.118773  0.107978\n",
       "CodeRevHrs     -0.026279      -0.064897     0.118773    1.000000 -0.040753\n",
       "Age             0.020675       0.151638     0.107978   -0.040753  1.000000"
      ]
     },
     "execution_count": 10,
     "metadata": {},
     "output_type": "execute_result"
    }
   ],
   "source": [
    "df_sd.corr()"
   ]
  },
  {
   "cell_type": "code",
   "execution_count": 11,
   "metadata": {},
   "outputs": [
    {
     "data": {
      "text/html": [
       "<div>\n",
       "<style scoped>\n",
       "    .dataframe tbody tr th:only-of-type {\n",
       "        vertical-align: middle;\n",
       "    }\n",
       "\n",
       "    .dataframe tbody tr th {\n",
       "        vertical-align: top;\n",
       "    }\n",
       "\n",
       "    .dataframe thead th {\n",
       "        text-align: right;\n",
       "    }\n",
       "</style>\n",
       "<table border=\"1\" class=\"dataframe\">\n",
       "  <thead>\n",
       "    <tr style=\"text-align: right;\">\n",
       "      <th></th>\n",
       "      <th>CompTotal</th>\n",
       "      <th>ConvertedComp</th>\n",
       "      <th>WorkWeekHrs</th>\n",
       "      <th>CodeRevHrs</th>\n",
       "      <th>Age</th>\n",
       "    </tr>\n",
       "  </thead>\n",
       "  <tbody>\n",
       "    <tr>\n",
       "      <th>CompTotal</th>\n",
       "      <td>1.000000</td>\n",
       "      <td>0.673137</td>\n",
       "      <td>0.101053</td>\n",
       "      <td>-0.031676</td>\n",
       "      <td>0.243849</td>\n",
       "    </tr>\n",
       "    <tr>\n",
       "      <th>ConvertedComp</th>\n",
       "      <td>0.673137</td>\n",
       "      <td>1.000000</td>\n",
       "      <td>0.056575</td>\n",
       "      <td>-0.037741</td>\n",
       "      <td>0.379306</td>\n",
       "    </tr>\n",
       "    <tr>\n",
       "      <th>WorkWeekHrs</th>\n",
       "      <td>0.101053</td>\n",
       "      <td>0.056575</td>\n",
       "      <td>1.000000</td>\n",
       "      <td>0.121566</td>\n",
       "      <td>0.018298</td>\n",
       "    </tr>\n",
       "    <tr>\n",
       "      <th>CodeRevHrs</th>\n",
       "      <td>-0.031676</td>\n",
       "      <td>-0.037741</td>\n",
       "      <td>0.121566</td>\n",
       "      <td>1.000000</td>\n",
       "      <td>-0.007759</td>\n",
       "    </tr>\n",
       "    <tr>\n",
       "      <th>Age</th>\n",
       "      <td>0.243849</td>\n",
       "      <td>0.379306</td>\n",
       "      <td>0.018298</td>\n",
       "      <td>-0.007759</td>\n",
       "      <td>1.000000</td>\n",
       "    </tr>\n",
       "  </tbody>\n",
       "</table>\n",
       "</div>"
      ],
      "text/plain": [
       "               CompTotal  ConvertedComp  WorkWeekHrs  CodeRevHrs       Age\n",
       "CompTotal       1.000000       0.673137     0.101053   -0.031676  0.243849\n",
       "ConvertedComp   0.673137       1.000000     0.056575   -0.037741  0.379306\n",
       "WorkWeekHrs     0.101053       0.056575     1.000000    0.121566  0.018298\n",
       "CodeRevHrs     -0.031676      -0.037741     0.121566    1.000000 -0.007759\n",
       "Age             0.243849       0.379306     0.018298   -0.007759  1.000000"
      ]
     },
     "execution_count": 11,
     "metadata": {},
     "output_type": "execute_result"
    }
   ],
   "source": [
    "df_q.corr()"
   ]
  },
  {
   "cell_type": "code",
   "execution_count": 12,
   "metadata": {},
   "outputs": [
    {
     "data": {
      "text/html": [
       "<div>\n",
       "<style scoped>\n",
       "    .dataframe tbody tr th:only-of-type {\n",
       "        vertical-align: middle;\n",
       "    }\n",
       "\n",
       "    .dataframe tbody tr th {\n",
       "        vertical-align: top;\n",
       "    }\n",
       "\n",
       "    .dataframe thead th {\n",
       "        text-align: right;\n",
       "    }\n",
       "</style>\n",
       "<table border=\"1\" class=\"dataframe\">\n",
       "  <thead>\n",
       "    <tr style=\"text-align: right;\">\n",
       "      <th></th>\n",
       "      <th>CompTotal</th>\n",
       "      <th>ConvertedComp</th>\n",
       "      <th>WorkWeekHrs</th>\n",
       "      <th>CodeRevHrs</th>\n",
       "      <th>Age</th>\n",
       "    </tr>\n",
       "  </thead>\n",
       "  <tbody>\n",
       "    <tr>\n",
       "      <th>count</th>\n",
       "      <td>1.904000e+03</td>\n",
       "      <td>1.900000e+03</td>\n",
       "      <td>2200.000000</td>\n",
       "      <td>1740.000000</td>\n",
       "      <td>2669.000000</td>\n",
       "    </tr>\n",
       "    <tr>\n",
       "      <th>mean</th>\n",
       "      <td>3.300406e+09</td>\n",
       "      <td>1.292020e+05</td>\n",
       "      <td>42.818841</td>\n",
       "      <td>4.890282</td>\n",
       "      <td>30.378194</td>\n",
       "    </tr>\n",
       "    <tr>\n",
       "      <th>std</th>\n",
       "      <td>1.439500e+11</td>\n",
       "      <td>2.923400e+05</td>\n",
       "      <td>26.378027</td>\n",
       "      <td>4.713350</td>\n",
       "      <td>8.826576</td>\n",
       "    </tr>\n",
       "    <tr>\n",
       "      <th>min</th>\n",
       "      <td>0.000000e+00</td>\n",
       "      <td>0.000000e+00</td>\n",
       "      <td>1.000000</td>\n",
       "      <td>0.000000</td>\n",
       "      <td>1.000000</td>\n",
       "    </tr>\n",
       "    <tr>\n",
       "      <th>25%</th>\n",
       "      <td>2.000000e+04</td>\n",
       "      <td>2.667000e+04</td>\n",
       "      <td>40.000000</td>\n",
       "      <td>2.000000</td>\n",
       "      <td>24.000000</td>\n",
       "    </tr>\n",
       "    <tr>\n",
       "      <th>50%</th>\n",
       "      <td>6.500000e+04</td>\n",
       "      <td>5.773200e+04</td>\n",
       "      <td>40.000000</td>\n",
       "      <td>4.000000</td>\n",
       "      <td>29.000000</td>\n",
       "    </tr>\n",
       "    <tr>\n",
       "      <th>75%</th>\n",
       "      <td>1.230000e+05</td>\n",
       "      <td>1.000000e+05</td>\n",
       "      <td>45.000000</td>\n",
       "      <td>6.000000</td>\n",
       "      <td>35.000000</td>\n",
       "    </tr>\n",
       "    <tr>\n",
       "      <th>max</th>\n",
       "      <td>6.281239e+12</td>\n",
       "      <td>2.000000e+06</td>\n",
       "      <td>475.000000</td>\n",
       "      <td>54.000000</td>\n",
       "      <td>73.000000</td>\n",
       "    </tr>\n",
       "  </tbody>\n",
       "</table>\n",
       "</div>"
      ],
      "text/plain": [
       "          CompTotal  ConvertedComp  WorkWeekHrs   CodeRevHrs          Age\n",
       "count  1.904000e+03   1.900000e+03  2200.000000  1740.000000  2669.000000\n",
       "mean   3.300406e+09   1.292020e+05    42.818841     4.890282    30.378194\n",
       "std    1.439500e+11   2.923400e+05    26.378027     4.713350     8.826576\n",
       "min    0.000000e+00   0.000000e+00     1.000000     0.000000     1.000000\n",
       "25%    2.000000e+04   2.667000e+04    40.000000     2.000000    24.000000\n",
       "50%    6.500000e+04   5.773200e+04    40.000000     4.000000    29.000000\n",
       "75%    1.230000e+05   1.000000e+05    45.000000     6.000000    35.000000\n",
       "max    6.281239e+12   2.000000e+06   475.000000    54.000000    73.000000"
      ]
     },
     "execution_count": 12,
     "metadata": {},
     "output_type": "execute_result"
    }
   ],
   "source": [
    "df.describe()"
   ]
  },
  {
   "cell_type": "code",
   "execution_count": 13,
   "metadata": {},
   "outputs": [
    {
     "data": {
      "text/html": [
       "<div>\n",
       "<style scoped>\n",
       "    .dataframe tbody tr th:only-of-type {\n",
       "        vertical-align: middle;\n",
       "    }\n",
       "\n",
       "    .dataframe tbody tr th {\n",
       "        vertical-align: top;\n",
       "    }\n",
       "\n",
       "    .dataframe thead th {\n",
       "        text-align: right;\n",
       "    }\n",
       "</style>\n",
       "<table border=\"1\" class=\"dataframe\">\n",
       "  <thead>\n",
       "    <tr style=\"text-align: right;\">\n",
       "      <th></th>\n",
       "      <th>CompTotal</th>\n",
       "      <th>ConvertedComp</th>\n",
       "      <th>WorkWeekHrs</th>\n",
       "      <th>CodeRevHrs</th>\n",
       "      <th>Age</th>\n",
       "    </tr>\n",
       "  </thead>\n",
       "  <tbody>\n",
       "    <tr>\n",
       "      <th>count</th>\n",
       "      <td>1.290000e+03</td>\n",
       "      <td>1290.000000</td>\n",
       "      <td>1290.000000</td>\n",
       "      <td>1290.000000</td>\n",
       "      <td>1290.000000</td>\n",
       "    </tr>\n",
       "    <tr>\n",
       "      <th>mean</th>\n",
       "      <td>1.980549e+06</td>\n",
       "      <td>97092.787597</td>\n",
       "      <td>40.599574</td>\n",
       "      <td>4.381078</td>\n",
       "      <td>31.265891</td>\n",
       "    </tr>\n",
       "    <tr>\n",
       "      <th>std</th>\n",
       "      <td>2.009753e+07</td>\n",
       "      <td>155324.287518</td>\n",
       "      <td>8.495784</td>\n",
       "      <td>3.138711</td>\n",
       "      <td>7.177123</td>\n",
       "    </tr>\n",
       "    <tr>\n",
       "      <th>min</th>\n",
       "      <td>0.000000e+00</td>\n",
       "      <td>0.000000</td>\n",
       "      <td>4.000000</td>\n",
       "      <td>0.000000</td>\n",
       "      <td>17.000000</td>\n",
       "    </tr>\n",
       "    <tr>\n",
       "      <th>25%</th>\n",
       "      <td>2.800000e+04</td>\n",
       "      <td>29547.000000</td>\n",
       "      <td>40.000000</td>\n",
       "      <td>2.000000</td>\n",
       "      <td>26.000000</td>\n",
       "    </tr>\n",
       "    <tr>\n",
       "      <th>50%</th>\n",
       "      <td>7.000000e+04</td>\n",
       "      <td>59826.000000</td>\n",
       "      <td>40.000000</td>\n",
       "      <td>4.000000</td>\n",
       "      <td>30.000000</td>\n",
       "    </tr>\n",
       "    <tr>\n",
       "      <th>75%</th>\n",
       "      <td>1.300000e+05</td>\n",
       "      <td>103000.000000</td>\n",
       "      <td>44.000000</td>\n",
       "      <td>5.000000</td>\n",
       "      <td>35.000000</td>\n",
       "    </tr>\n",
       "    <tr>\n",
       "      <th>max</th>\n",
       "      <td>4.500000e+08</td>\n",
       "      <td>1000000.000000</td>\n",
       "      <td>98.000000</td>\n",
       "      <td>18.000000</td>\n",
       "      <td>56.000000</td>\n",
       "    </tr>\n",
       "  </tbody>\n",
       "</table>\n",
       "</div>"
      ],
      "text/plain": [
       "          CompTotal   ConvertedComp  WorkWeekHrs   CodeRevHrs          Age\n",
       "count  1.290000e+03     1290.000000  1290.000000  1290.000000  1290.000000\n",
       "mean   1.980549e+06    97092.787597    40.599574     4.381078    31.265891\n",
       "std    2.009753e+07   155324.287518     8.495784     3.138711     7.177123\n",
       "min    0.000000e+00        0.000000     4.000000     0.000000    17.000000\n",
       "25%    2.800000e+04    29547.000000    40.000000     2.000000    26.000000\n",
       "50%    7.000000e+04    59826.000000    40.000000     4.000000    30.000000\n",
       "75%    1.300000e+05   103000.000000    44.000000     5.000000    35.000000\n",
       "max    4.500000e+08  1000000.000000    98.000000    18.000000    56.000000"
      ]
     },
     "execution_count": 13,
     "metadata": {},
     "output_type": "execute_result"
    }
   ],
   "source": [
    "df_sd.describe()"
   ]
  },
  {
   "cell_type": "code",
   "execution_count": 14,
   "metadata": {},
   "outputs": [
    {
     "data": {
      "text/html": [
       "<div>\n",
       "<style scoped>\n",
       "    .dataframe tbody tr th:only-of-type {\n",
       "        vertical-align: middle;\n",
       "    }\n",
       "\n",
       "    .dataframe tbody tr th {\n",
       "        vertical-align: top;\n",
       "    }\n",
       "\n",
       "    .dataframe thead th {\n",
       "        text-align: right;\n",
       "    }\n",
       "</style>\n",
       "<table border=\"1\" class=\"dataframe\">\n",
       "  <thead>\n",
       "    <tr style=\"text-align: right;\">\n",
       "      <th></th>\n",
       "      <th>CompTotal</th>\n",
       "      <th>ConvertedComp</th>\n",
       "      <th>WorkWeekHrs</th>\n",
       "      <th>CodeRevHrs</th>\n",
       "      <th>Age</th>\n",
       "    </tr>\n",
       "  </thead>\n",
       "  <tbody>\n",
       "    <tr>\n",
       "      <th>count</th>\n",
       "      <td>1280.000000</td>\n",
       "      <td>1277.000000</td>\n",
       "      <td>1494.000000</td>\n",
       "      <td>1196.000000</td>\n",
       "      <td>1972.000000</td>\n",
       "    </tr>\n",
       "    <tr>\n",
       "      <th>mean</th>\n",
       "      <td>63876.481250</td>\n",
       "      <td>66893.708692</td>\n",
       "      <td>41.033266</td>\n",
       "      <td>4.180468</td>\n",
       "      <td>29.414554</td>\n",
       "    </tr>\n",
       "    <tr>\n",
       "      <th>std</th>\n",
       "      <td>52414.575302</td>\n",
       "      <td>44284.607684</td>\n",
       "      <td>3.656716</td>\n",
       "      <td>2.699862</td>\n",
       "      <td>7.716316</td>\n",
       "    </tr>\n",
       "    <tr>\n",
       "      <th>min</th>\n",
       "      <td>0.000000</td>\n",
       "      <td>0.000000</td>\n",
       "      <td>33.000000</td>\n",
       "      <td>0.000000</td>\n",
       "      <td>12.000000</td>\n",
       "    </tr>\n",
       "    <tr>\n",
       "      <th>25%</th>\n",
       "      <td>15000.000000</td>\n",
       "      <td>33000.000000</td>\n",
       "      <td>40.000000</td>\n",
       "      <td>2.000000</td>\n",
       "      <td>24.000000</td>\n",
       "    </tr>\n",
       "    <tr>\n",
       "      <th>50%</th>\n",
       "      <td>56000.000000</td>\n",
       "      <td>59579.000000</td>\n",
       "      <td>40.000000</td>\n",
       "      <td>4.000000</td>\n",
       "      <td>28.000000</td>\n",
       "    </tr>\n",
       "    <tr>\n",
       "      <th>75%</th>\n",
       "      <td>97000.000000</td>\n",
       "      <td>91660.000000</td>\n",
       "      <td>42.000000</td>\n",
       "      <td>5.000000</td>\n",
       "      <td>34.000000</td>\n",
       "    </tr>\n",
       "    <tr>\n",
       "      <th>max</th>\n",
       "      <td>275000.000000</td>\n",
       "      <td>209931.000000</td>\n",
       "      <td>52.000000</td>\n",
       "      <td>12.000000</td>\n",
       "      <td>51.000000</td>\n",
       "    </tr>\n",
       "  </tbody>\n",
       "</table>\n",
       "</div>"
      ],
      "text/plain": [
       "           CompTotal  ConvertedComp  WorkWeekHrs   CodeRevHrs          Age\n",
       "count    1280.000000    1277.000000  1494.000000  1196.000000  1972.000000\n",
       "mean    63876.481250   66893.708692    41.033266     4.180468    29.414554\n",
       "std     52414.575302   44284.607684     3.656716     2.699862     7.716316\n",
       "min         0.000000       0.000000    33.000000     0.000000    12.000000\n",
       "25%     15000.000000   33000.000000    40.000000     2.000000    24.000000\n",
       "50%     56000.000000   59579.000000    40.000000     4.000000    28.000000\n",
       "75%     97000.000000   91660.000000    42.000000     5.000000    34.000000\n",
       "max    275000.000000  209931.000000    52.000000    12.000000    51.000000"
      ]
     },
     "execution_count": 14,
     "metadata": {},
     "output_type": "execute_result"
    }
   ],
   "source": [
    "df_q.describe()"
   ]
  },
  {
   "cell_type": "code",
   "execution_count": 15,
   "metadata": {},
   "outputs": [
    {
     "data": {
      "text/plain": [
       "97092.78759689923"
      ]
     },
     "execution_count": 15,
     "metadata": {},
     "output_type": "execute_result"
    }
   ],
   "source": [
    "df_sd.ConvertedComp.mean()"
   ]
  },
  {
   "cell_type": "code",
   "execution_count": 16,
   "metadata": {},
   "outputs": [
    {
     "data": {
      "text/plain": [
       "1000000.0"
      ]
     },
     "execution_count": 16,
     "metadata": {},
     "output_type": "execute_result"
    }
   ],
   "source": [
    "df_sd.ConvertedComp.max()"
   ]
  },
  {
   "cell_type": "code",
   "execution_count": 17,
   "metadata": {},
   "outputs": [
    {
     "data": {
      "text/plain": [
       "0.0"
      ]
     },
     "execution_count": 17,
     "metadata": {},
     "output_type": "execute_result"
    }
   ],
   "source": [
    "df_sd.ConvertedComp.min()"
   ]
  },
  {
   "cell_type": "code",
   "execution_count": 18,
   "metadata": {},
   "outputs": [
    {
     "data": {
      "text/plain": [
       "125249696.0"
      ]
     },
     "execution_count": 18,
     "metadata": {},
     "output_type": "execute_result"
    }
   ],
   "source": [
    "df_sd.ConvertedComp.sum()"
   ]
  },
  {
   "cell_type": "code",
   "execution_count": 19,
   "metadata": {},
   "outputs": [
    {
     "data": {
      "text/plain": [
       "129201.97736842105"
      ]
     },
     "execution_count": 19,
     "metadata": {},
     "output_type": "execute_result"
    }
   ],
   "source": [
    "df.ConvertedComp.mean()"
   ]
  },
  {
   "cell_type": "code",
   "execution_count": 20,
   "metadata": {},
   "outputs": [
    {
     "data": {
      "text/plain": [
       "2000000.0"
      ]
     },
     "execution_count": 20,
     "metadata": {},
     "output_type": "execute_result"
    }
   ],
   "source": [
    "df.ConvertedComp.max()"
   ]
  },
  {
   "cell_type": "code",
   "execution_count": 21,
   "metadata": {},
   "outputs": [
    {
     "data": {
      "text/plain": [
       "0.0"
      ]
     },
     "execution_count": 21,
     "metadata": {},
     "output_type": "execute_result"
    }
   ],
   "source": [
    "df.ConvertedComp.min()"
   ]
  },
  {
   "cell_type": "code",
   "execution_count": 22,
   "metadata": {},
   "outputs": [
    {
     "data": {
      "image/png": "[encoded data removed]",
      "text/plain": [
       "<Figure size 432x288 with 1 Axes>"
      ]
     },
     "metadata": {
      "needs_background": "light"
     },
     "output_type": "display_data"
    },
    {
     "data": {
      "image/png": "[encoded data removed]",
      "text/plain": [
       "<Figure size 432x288 with 1 Axes>"
      ]
     },
     "metadata": {
      "needs_background": "light"
     },
     "output_type": "display_data"
    },
    {
     "data": {
      "image/png": "[encoded data removed]",
      "text/plain": [
       "<Figure size 432x288 with 1 Axes>"
      ]
     },
     "metadata": {
      "needs_background": "light"
     },
     "output_type": "display_data"
    }
   ],
   "source": [
    "df.plot()\n",
    "plt.show();\n",
    "df_sd.plot()\n",
    "plt.show();\n",
    "df_q.plot()\n",
    "plt.show();"
   ]
  },
  {
   "cell_type": "code",
   "execution_count": 23,
   "metadata": {},
   "outputs": [
    {
     "data": {
      "text/html": [
       "<div>\n",
       "<style scoped>\n",
       "    .dataframe tbody tr th:only-of-type {\n",
       "        vertical-align: middle;\n",
       "    }\n",
       "\n",
       "    .dataframe tbody tr th {\n",
       "        vertical-align: top;\n",
       "    }\n",
       "\n",
       "    .dataframe thead th {\n",
       "        text-align: right;\n",
       "    }\n",
       "</style>\n",
       "<table border=\"1\" class=\"dataframe\">\n",
       "  <thead>\n",
       "    <tr style=\"text-align: right;\">\n",
       "      <th></th>\n",
       "      <th>CompTotal</th>\n",
       "      <th>ConvertedComp</th>\n",
       "      <th>WorkWeekHrs</th>\n",
       "      <th>CodeRevHrs</th>\n",
       "      <th>Age</th>\n",
       "    </tr>\n",
       "  </thead>\n",
       "  <tbody>\n",
       "    <tr>\n",
       "      <th>count</th>\n",
       "      <td>1280.000000</td>\n",
       "      <td>1277.000000</td>\n",
       "      <td>1494.000000</td>\n",
       "      <td>1196.000000</td>\n",
       "      <td>1972.000000</td>\n",
       "    </tr>\n",
       "    <tr>\n",
       "      <th>mean</th>\n",
       "      <td>63876.481250</td>\n",
       "      <td>66893.708692</td>\n",
       "      <td>41.033266</td>\n",
       "      <td>4.180468</td>\n",
       "      <td>29.414554</td>\n",
       "    </tr>\n",
       "    <tr>\n",
       "      <th>std</th>\n",
       "      <td>52414.575302</td>\n",
       "      <td>44284.607684</td>\n",
       "      <td>3.656716</td>\n",
       "      <td>2.699862</td>\n",
       "      <td>7.716316</td>\n",
       "    </tr>\n",
       "    <tr>\n",
       "      <th>min</th>\n",
       "      <td>0.000000</td>\n",
       "      <td>0.000000</td>\n",
       "      <td>33.000000</td>\n",
       "      <td>0.000000</td>\n",
       "      <td>12.000000</td>\n",
       "    </tr>\n",
       "    <tr>\n",
       "      <th>25%</th>\n",
       "      <td>15000.000000</td>\n",
       "      <td>33000.000000</td>\n",
       "      <td>40.000000</td>\n",
       "      <td>2.000000</td>\n",
       "      <td>24.000000</td>\n",
       "    </tr>\n",
       "    <tr>\n",
       "      <th>50%</th>\n",
       "      <td>56000.000000</td>\n",
       "      <td>59579.000000</td>\n",
       "      <td>40.000000</td>\n",
       "      <td>4.000000</td>\n",
       "      <td>28.000000</td>\n",
       "    </tr>\n",
       "    <tr>\n",
       "      <th>75%</th>\n",
       "      <td>97000.000000</td>\n",
       "      <td>91660.000000</td>\n",
       "      <td>42.000000</td>\n",
       "      <td>5.000000</td>\n",
       "      <td>34.000000</td>\n",
       "    </tr>\n",
       "    <tr>\n",
       "      <th>max</th>\n",
       "      <td>275000.000000</td>\n",
       "      <td>209931.000000</td>\n",
       "      <td>52.000000</td>\n",
       "      <td>12.000000</td>\n",
       "      <td>51.000000</td>\n",
       "    </tr>\n",
       "  </tbody>\n",
       "</table>\n",
       "</div>"
      ],
      "text/plain": [
       "           CompTotal  ConvertedComp  WorkWeekHrs   CodeRevHrs          Age\n",
       "count    1280.000000    1277.000000  1494.000000  1196.000000  1972.000000\n",
       "mean    63876.481250   66893.708692    41.033266     4.180468    29.414554\n",
       "std     52414.575302   44284.607684     3.656716     2.699862     7.716316\n",
       "min         0.000000       0.000000    33.000000     0.000000    12.000000\n",
       "25%     15000.000000   33000.000000    40.000000     2.000000    24.000000\n",
       "50%     56000.000000   59579.000000    40.000000     4.000000    28.000000\n",
       "75%     97000.000000   91660.000000    42.000000     5.000000    34.000000\n",
       "max    275000.000000  209931.000000    52.000000    12.000000    51.000000"
      ]
     },
     "execution_count": 23,
     "metadata": {},
     "output_type": "execute_result"
    }
   ],
   "source": [
    "df_q.describe()"
   ]
  },
  {
   "cell_type": "code",
   "execution_count": 24,
   "metadata": {},
   "outputs": [],
   "source": [
    "df = pd.read_csv('survey_results_public.csv',\n",
    "                        usecols=['CodeRevHrs', 'CompTotal', 'ConvertedComp', 'WorkWeekHrs', 'Age', 'WorkLoc' , 'Hobbyist'],)"
   ]
  },
  {
   "cell_type": "code",
   "execution_count": 25,
   "metadata": {},
   "outputs": [
    {
     "data": {
      "text/html": [
       "<div>\n",
       "<style scoped>\n",
       "    .dataframe tbody tr th:only-of-type {\n",
       "        vertical-align: middle;\n",
       "    }\n",
       "\n",
       "    .dataframe tbody tr th {\n",
       "        vertical-align: top;\n",
       "    }\n",
       "\n",
       "    .dataframe thead th {\n",
       "        text-align: right;\n",
       "    }\n",
       "</style>\n",
       "<table border=\"1\" class=\"dataframe\">\n",
       "  <thead>\n",
       "    <tr style=\"text-align: right;\">\n",
       "      <th></th>\n",
       "      <th>Hobbyist</th>\n",
       "      <th>CompTotal</th>\n",
       "      <th>ConvertedComp</th>\n",
       "      <th>WorkWeekHrs</th>\n",
       "      <th>WorkLoc</th>\n",
       "      <th>CodeRevHrs</th>\n",
       "      <th>Age</th>\n",
       "    </tr>\n",
       "  </thead>\n",
       "  <tbody>\n",
       "    <tr>\n",
       "      <th>0</th>\n",
       "      <td>Yes</td>\n",
       "      <td>NaN</td>\n",
       "      <td>NaN</td>\n",
       "      <td>NaN</td>\n",
       "      <td>NaN</td>\n",
       "      <td>NaN</td>\n",
       "      <td>14.0</td>\n",
       "    </tr>\n",
       "    <tr>\n",
       "      <th>1</th>\n",
       "      <td>No</td>\n",
       "      <td>NaN</td>\n",
       "      <td>NaN</td>\n",
       "      <td>NaN</td>\n",
       "      <td>NaN</td>\n",
       "      <td>NaN</td>\n",
       "      <td>19.0</td>\n",
       "    </tr>\n",
       "    <tr>\n",
       "      <th>2</th>\n",
       "      <td>Yes</td>\n",
       "      <td>23000.0</td>\n",
       "      <td>8820.0</td>\n",
       "      <td>40.0</td>\n",
       "      <td>Home</td>\n",
       "      <td>NaN</td>\n",
       "      <td>28.0</td>\n",
       "    </tr>\n",
       "  </tbody>\n",
       "</table>\n",
       "</div>"
      ],
      "text/plain": [
       "  Hobbyist  CompTotal  ConvertedComp  WorkWeekHrs WorkLoc  CodeRevHrs   Age\n",
       "0      Yes        NaN            NaN          NaN     NaN         NaN  14.0\n",
       "1       No        NaN            NaN          NaN     NaN         NaN  19.0\n",
       "2      Yes    23000.0         8820.0         40.0    Home         NaN  28.0"
      ]
     },
     "execution_count": 25,
     "metadata": {},
     "output_type": "execute_result"
    }
   ],
   "source": [
    "df[:3]"
   ]
  },
  {
   "cell_type": "code",
   "execution_count": 26,
   "metadata": {},
   "outputs": [],
   "source": [
    "df.replace(to_replace='Yes', value='1', inplace=True)\n",
    "df.replace(to_replace='No', value='0', inplace=True)"
   ]
  },
  {
   "cell_type": "code",
   "execution_count": 27,
   "metadata": {},
   "outputs": [
    {
     "data": {
      "text/html": [
       "<div>\n",
       "<style scoped>\n",
       "    .dataframe tbody tr th:only-of-type {\n",
       "        vertical-align: middle;\n",
       "    }\n",
       "\n",
       "    .dataframe tbody tr th {\n",
       "        vertical-align: top;\n",
       "    }\n",
       "\n",
       "    .dataframe thead th {\n",
       "        text-align: right;\n",
       "    }\n",
       "</style>\n",
       "<table border=\"1\" class=\"dataframe\">\n",
       "  <thead>\n",
       "    <tr style=\"text-align: right;\">\n",
       "      <th></th>\n",
       "      <th>Hobbyist</th>\n",
       "      <th>CompTotal</th>\n",
       "      <th>ConvertedComp</th>\n",
       "      <th>WorkWeekHrs</th>\n",
       "      <th>WorkLoc</th>\n",
       "      <th>CodeRevHrs</th>\n",
       "      <th>Age</th>\n",
       "    </tr>\n",
       "  </thead>\n",
       "  <tbody>\n",
       "    <tr>\n",
       "      <th>0</th>\n",
       "      <td>1</td>\n",
       "      <td>NaN</td>\n",
       "      <td>NaN</td>\n",
       "      <td>NaN</td>\n",
       "      <td>NaN</td>\n",
       "      <td>NaN</td>\n",
       "      <td>14.0</td>\n",
       "    </tr>\n",
       "    <tr>\n",
       "      <th>1</th>\n",
       "      <td>0</td>\n",
       "      <td>NaN</td>\n",
       "      <td>NaN</td>\n",
       "      <td>NaN</td>\n",
       "      <td>NaN</td>\n",
       "      <td>NaN</td>\n",
       "      <td>19.0</td>\n",
       "    </tr>\n",
       "    <tr>\n",
       "      <th>2</th>\n",
       "      <td>1</td>\n",
       "      <td>23000.0</td>\n",
       "      <td>8820.0</td>\n",
       "      <td>40.0</td>\n",
       "      <td>Home</td>\n",
       "      <td>NaN</td>\n",
       "      <td>28.0</td>\n",
       "    </tr>\n",
       "  </tbody>\n",
       "</table>\n",
       "</div>"
      ],
      "text/plain": [
       "  Hobbyist  CompTotal  ConvertedComp  WorkWeekHrs WorkLoc  CodeRevHrs   Age\n",
       "0        1        NaN            NaN          NaN     NaN         NaN  14.0\n",
       "1        0        NaN            NaN          NaN     NaN         NaN  19.0\n",
       "2        1    23000.0         8820.0         40.0    Home         NaN  28.0"
      ]
     },
     "execution_count": 27,
     "metadata": {},
     "output_type": "execute_result"
    }
   ],
   "source": [
    "df[:3]"
   ]
  },
  {
   "cell_type": "code",
   "execution_count": 28,
   "metadata": {},
   "outputs": [
    {
     "name": "stdout",
     "output_type": "stream",
     "text": [
      "[nan 'Home' 'Office' 'Other place, such as a coworking space or cafe']\n"
     ]
    }
   ],
   "source": [
    "column_values = df[['WorkLoc']].values.ravel()\n",
    "unique_values = pd.unique(column_values)\n",
    "print(unique_values)"
   ]
  },
  {
   "cell_type": "code",
   "execution_count": 29,
   "metadata": {},
   "outputs": [],
   "source": [
    "one_hot = pd.get_dummies(df['WorkLoc'])"
   ]
  },
  {
   "cell_type": "code",
   "execution_count": 30,
   "metadata": {},
   "outputs": [],
   "source": [
    "df = df.drop('WorkLoc',axis=1)"
   ]
  },
  {
   "cell_type": "code",
   "execution_count": 31,
   "metadata": {},
   "outputs": [],
   "source": [
    "df = df.join(one_hot)"
   ]
  },
  {
   "cell_type": "code",
   "execution_count": 32,
   "metadata": {},
   "outputs": [
    {
     "data": {
      "text/html": [
       "<div>\n",
       "<style scoped>\n",
       "    .dataframe tbody tr th:only-of-type {\n",
       "        vertical-align: middle;\n",
       "    }\n",
       "\n",
       "    .dataframe tbody tr th {\n",
       "        vertical-align: top;\n",
       "    }\n",
       "\n",
       "    .dataframe thead th {\n",
       "        text-align: right;\n",
       "    }\n",
       "</style>\n",
       "<table border=\"1\" class=\"dataframe\">\n",
       "  <thead>\n",
       "    <tr style=\"text-align: right;\">\n",
       "      <th></th>\n",
       "      <th>Hobbyist</th>\n",
       "      <th>CompTotal</th>\n",
       "      <th>ConvertedComp</th>\n",
       "      <th>WorkWeekHrs</th>\n",
       "      <th>CodeRevHrs</th>\n",
       "      <th>Age</th>\n",
       "      <th>Home</th>\n",
       "      <th>Office</th>\n",
       "      <th>Other place, such as a coworking space or cafe</th>\n",
       "    </tr>\n",
       "  </thead>\n",
       "  <tbody>\n",
       "    <tr>\n",
       "      <th>0</th>\n",
       "      <td>1</td>\n",
       "      <td>NaN</td>\n",
       "      <td>NaN</td>\n",
       "      <td>NaN</td>\n",
       "      <td>NaN</td>\n",
       "      <td>14.0</td>\n",
       "      <td>0</td>\n",
       "      <td>0</td>\n",
       "      <td>0</td>\n",
       "    </tr>\n",
       "    <tr>\n",
       "      <th>1</th>\n",
       "      <td>0</td>\n",
       "      <td>NaN</td>\n",
       "      <td>NaN</td>\n",
       "      <td>NaN</td>\n",
       "      <td>NaN</td>\n",
       "      <td>19.0</td>\n",
       "      <td>0</td>\n",
       "      <td>0</td>\n",
       "      <td>0</td>\n",
       "    </tr>\n",
       "    <tr>\n",
       "      <th>2</th>\n",
       "      <td>1</td>\n",
       "      <td>23000.0</td>\n",
       "      <td>8820.0</td>\n",
       "      <td>40.0</td>\n",
       "      <td>NaN</td>\n",
       "      <td>28.0</td>\n",
       "      <td>1</td>\n",
       "      <td>0</td>\n",
       "      <td>0</td>\n",
       "    </tr>\n",
       "  </tbody>\n",
       "</table>\n",
       "</div>"
      ],
      "text/plain": [
       "  Hobbyist  CompTotal  ConvertedComp  WorkWeekHrs  CodeRevHrs   Age  Home  \\\n",
       "0        1        NaN            NaN          NaN         NaN  14.0     0   \n",
       "1        0        NaN            NaN          NaN         NaN  19.0     0   \n",
       "2        1    23000.0         8820.0         40.0         NaN  28.0     1   \n",
       "\n",
       "   Office  Other place, such as a coworking space or cafe  \n",
       "0       0                                               0  \n",
       "1       0                                               0  \n",
       "2       0                                               0  "
      ]
     },
     "execution_count": 32,
     "metadata": {},
     "output_type": "execute_result"
    }
   ],
   "source": [
    "df[:3]"
   ]
  },
  {
   "cell_type": "code",
   "execution_count": 33,
   "metadata": {},
   "outputs": [],
   "source": [
    "df_q = df_q.dropna()"
   ]
  },
  {
   "cell_type": "code",
   "execution_count": 34,
   "metadata": {},
   "outputs": [
    {
     "data": {
      "text/html": [
       "<div>\n",
       "<style scoped>\n",
       "    .dataframe tbody tr th:only-of-type {\n",
       "        vertical-align: middle;\n",
       "    }\n",
       "\n",
       "    .dataframe tbody tr th {\n",
       "        vertical-align: top;\n",
       "    }\n",
       "\n",
       "    .dataframe thead th {\n",
       "        text-align: right;\n",
       "    }\n",
       "</style>\n",
       "<table border=\"1\" class=\"dataframe\">\n",
       "  <thead>\n",
       "    <tr style=\"text-align: right;\">\n",
       "      <th></th>\n",
       "      <th>CompTotal</th>\n",
       "      <th>ConvertedComp</th>\n",
       "      <th>WorkWeekHrs</th>\n",
       "      <th>CodeRevHrs</th>\n",
       "      <th>Age</th>\n",
       "    </tr>\n",
       "  </thead>\n",
       "  <tbody>\n",
       "    <tr>\n",
       "      <th>CompTotal</th>\n",
       "      <td>1.000000</td>\n",
       "      <td>0.633843</td>\n",
       "      <td>0.116972</td>\n",
       "      <td>-0.029208</td>\n",
       "      <td>0.218627</td>\n",
       "    </tr>\n",
       "    <tr>\n",
       "      <th>ConvertedComp</th>\n",
       "      <td>0.633843</td>\n",
       "      <td>1.000000</td>\n",
       "      <td>0.080254</td>\n",
       "      <td>-0.040247</td>\n",
       "      <td>0.379503</td>\n",
       "    </tr>\n",
       "    <tr>\n",
       "      <th>WorkWeekHrs</th>\n",
       "      <td>0.116972</td>\n",
       "      <td>0.080254</td>\n",
       "      <td>1.000000</td>\n",
       "      <td>0.123336</td>\n",
       "      <td>0.026716</td>\n",
       "    </tr>\n",
       "    <tr>\n",
       "      <th>CodeRevHrs</th>\n",
       "      <td>-0.029208</td>\n",
       "      <td>-0.040247</td>\n",
       "      <td>0.123336</td>\n",
       "      <td>1.000000</td>\n",
       "      <td>-0.008009</td>\n",
       "    </tr>\n",
       "    <tr>\n",
       "      <th>Age</th>\n",
       "      <td>0.218627</td>\n",
       "      <td>0.379503</td>\n",
       "      <td>0.026716</td>\n",
       "      <td>-0.008009</td>\n",
       "      <td>1.000000</td>\n",
       "    </tr>\n",
       "  </tbody>\n",
       "</table>\n",
       "</div>"
      ],
      "text/plain": [
       "               CompTotal  ConvertedComp  WorkWeekHrs  CodeRevHrs       Age\n",
       "CompTotal       1.000000       0.633843     0.116972   -0.029208  0.218627\n",
       "ConvertedComp   0.633843       1.000000     0.080254   -0.040247  0.379503\n",
       "WorkWeekHrs     0.116972       0.080254     1.000000    0.123336  0.026716\n",
       "CodeRevHrs     -0.029208      -0.040247     0.123336    1.000000 -0.008009\n",
       "Age             0.218627       0.379503     0.026716   -0.008009  1.000000"
      ]
     },
     "execution_count": 34,
     "metadata": {},
     "output_type": "execute_result"
    }
   ],
   "source": [
    "df_q.corr()"
   ]
  },
  {
   "cell_type": "code",
   "execution_count": 35,
   "metadata": {},
   "outputs": [
    {
     "data": {
      "text/html": [
       "<div>\n",
       "<style scoped>\n",
       "    .dataframe tbody tr th:only-of-type {\n",
       "        vertical-align: middle;\n",
       "    }\n",
       "\n",
       "    .dataframe tbody tr th {\n",
       "        vertical-align: top;\n",
       "    }\n",
       "\n",
       "    .dataframe thead th {\n",
       "        text-align: right;\n",
       "    }\n",
       "</style>\n",
       "<table border=\"1\" class=\"dataframe\">\n",
       "  <thead>\n",
       "    <tr style=\"text-align: right;\">\n",
       "      <th></th>\n",
       "      <th>CompTotal</th>\n",
       "      <th>ConvertedComp</th>\n",
       "      <th>WorkWeekHrs</th>\n",
       "      <th>CodeRevHrs</th>\n",
       "      <th>Age</th>\n",
       "    </tr>\n",
       "  </thead>\n",
       "  <tbody>\n",
       "    <tr>\n",
       "      <th>count</th>\n",
       "      <td>916.000000</td>\n",
       "      <td>916.000000</td>\n",
       "      <td>916.000000</td>\n",
       "      <td>916.000000</td>\n",
       "      <td>916.000000</td>\n",
       "    </tr>\n",
       "    <tr>\n",
       "      <th>mean</th>\n",
       "      <td>67902.669214</td>\n",
       "      <td>71256.197598</td>\n",
       "      <td>40.879039</td>\n",
       "      <td>4.143384</td>\n",
       "      <td>31.271834</td>\n",
       "    </tr>\n",
       "    <tr>\n",
       "      <th>std</th>\n",
       "      <td>53142.958126</td>\n",
       "      <td>45154.459468</td>\n",
       "      <td>3.584673</td>\n",
       "      <td>2.689594</td>\n",
       "      <td>6.828045</td>\n",
       "    </tr>\n",
       "    <tr>\n",
       "      <th>min</th>\n",
       "      <td>0.000000</td>\n",
       "      <td>0.000000</td>\n",
       "      <td>33.000000</td>\n",
       "      <td>0.000000</td>\n",
       "      <td>17.000000</td>\n",
       "    </tr>\n",
       "    <tr>\n",
       "      <th>25%</th>\n",
       "      <td>21750.000000</td>\n",
       "      <td>37349.000000</td>\n",
       "      <td>40.000000</td>\n",
       "      <td>2.000000</td>\n",
       "      <td>26.000000</td>\n",
       "    </tr>\n",
       "    <tr>\n",
       "      <th>50%</th>\n",
       "      <td>60500.000000</td>\n",
       "      <td>63876.000000</td>\n",
       "      <td>40.000000</td>\n",
       "      <td>4.000000</td>\n",
       "      <td>30.000000</td>\n",
       "    </tr>\n",
       "    <tr>\n",
       "      <th>75%</th>\n",
       "      <td>100000.000000</td>\n",
       "      <td>98000.000000</td>\n",
       "      <td>40.000000</td>\n",
       "      <td>5.000000</td>\n",
       "      <td>35.000000</td>\n",
       "    </tr>\n",
       "    <tr>\n",
       "      <th>max</th>\n",
       "      <td>275000.000000</td>\n",
       "      <td>209931.000000</td>\n",
       "      <td>52.000000</td>\n",
       "      <td>12.000000</td>\n",
       "      <td>51.000000</td>\n",
       "    </tr>\n",
       "  </tbody>\n",
       "</table>\n",
       "</div>"
      ],
      "text/plain": [
       "           CompTotal  ConvertedComp  WorkWeekHrs  CodeRevHrs         Age\n",
       "count     916.000000     916.000000   916.000000  916.000000  916.000000\n",
       "mean    67902.669214   71256.197598    40.879039    4.143384   31.271834\n",
       "std     53142.958126   45154.459468     3.584673    2.689594    6.828045\n",
       "min         0.000000       0.000000    33.000000    0.000000   17.000000\n",
       "25%     21750.000000   37349.000000    40.000000    2.000000   26.000000\n",
       "50%     60500.000000   63876.000000    40.000000    4.000000   30.000000\n",
       "75%    100000.000000   98000.000000    40.000000    5.000000   35.000000\n",
       "max    275000.000000  209931.000000    52.000000   12.000000   51.000000"
      ]
     },
     "execution_count": 35,
     "metadata": {},
     "output_type": "execute_result"
    }
   ],
   "source": [
    "df_q.describe()"
   ]
  },
  {
   "cell_type": "code",
   "execution_count": 36,
   "metadata": {},
   "outputs": [
    {
     "data": {
      "text/plain": [
       "LinearRegression()"
      ]
     },
     "execution_count": 36,
     "metadata": {},
     "output_type": "execute_result"
    }
   ],
   "source": [
    "reg = linear_model.LinearRegression()\n",
    "reg.fit(df_q[['Age']], df_q['ConvertedComp'])"
   ]
  },
  {
   "cell_type": "code",
   "execution_count": 37,
   "metadata": {},
   "outputs": [
    {
     "data": {
      "text/plain": [
       "array([42967.41433255])"
      ]
     },
     "execution_count": 37,
     "metadata": {},
     "output_type": "execute_result"
    }
   ],
   "source": [
    "reg.predict([[20]])"
   ]
  },
  {
   "cell_type": "code",
   "execution_count": 38,
   "metadata": {},
   "outputs": [
    {
     "data": {
      "text/plain": [
       "array([68064.29130241])"
      ]
     },
     "execution_count": 38,
     "metadata": {},
     "output_type": "execute_result"
    }
   ],
   "source": [
    "reg.predict([[30]])"
   ]
  },
  {
   "cell_type": "code",
   "execution_count": 39,
   "metadata": {},
   "outputs": [
    {
     "data": {
      "text/plain": [
       "array([93161.16827228])"
      ]
     },
     "execution_count": 39,
     "metadata": {},
     "output_type": "execute_result"
    }
   ],
   "source": [
    "reg.predict([[40]])"
   ]
  },
  {
   "cell_type": "code",
   "execution_count": 40,
   "metadata": {},
   "outputs": [
    {
     "data": {
      "text/plain": [
       "LinearRegression()"
      ]
     },
     "execution_count": 40,
     "metadata": {},
     "output_type": "execute_result"
    }
   ],
   "source": [
    "reg = linear_model.LinearRegression()\n",
    "reg.fit(df_q[['Age', 'CodeRevHrs']], df_q['ConvertedComp'])"
   ]
  },
  {
   "cell_type": "code",
   "execution_count": 41,
   "metadata": {},
   "outputs": [
    {
     "data": {
      "text/plain": [
       "array([2507.71689377, -624.694861  ])"
      ]
     },
     "execution_count": 41,
     "metadata": {},
     "output_type": "execute_result"
    }
   ],
   "source": [
    "reg.coef_"
   ]
  },
  {
   "cell_type": "code",
   "execution_count": 42,
   "metadata": {},
   "outputs": [
    {
     "data": {
      "text/plain": [
       "array([ 62516.24061108,  70664.08615338,  65023.95750485,  45595.85466549,\n",
       "        79436.62655668,  74421.19276914,  54993.08992978,  82881.38574194,\n",
       "        46211.61207672, 103889.10063334,  98873.66684581,  58134.43913432,\n",
       "        97008.51971258, 107646.2072491 ,  48094.63410948,  39937.85111741,\n",
       "        85085.69265498,  58134.43913432,  36823.31426219,  52485.37303602,\n",
       "        74421.19276914,  66915.91698739,  54377.33251856,  79454.50145622,\n",
       "        56242.47965178,  81944.34345044,  61882.60830031,  67531.67439861,\n",
       "        57491.86937378,  76928.90966291,  59062.54397605,  47461.00179871,\n",
       "        66915.91698739,  89467.49413174,  55626.72224055,  59374.89140655,\n",
       "        52485.37303602,  80070.25886745,  75045.88763014,  79454.50145622,\n",
       "        69405.75898161,  74108.84533864,  54368.39506878,  54359.45761901,\n",
       "        50611.28845302,  82577.97576121, 110787.55645364,  64390.32519408,\n",
       "        86977.65213752,  83827.36548321,  65023.95750485,  80694.95372844,\n",
       "       101381.38373957, 112036.94617564,  69414.69643138,  48719.32897048,\n",
       "        81944.34345044,  65023.95750485,  66898.04208784,  65015.02005508,\n",
       "        59383.82885632,  60633.21857831,  64390.32519408,  92608.84333628,\n",
       "        93233.53819728, 103898.03808311,  52485.37303602,  76928.90966291,\n",
       "       112661.64103664,  67531.67439861,  80694.95372844,  89476.43158151,\n",
       "        70039.39129238,  72547.10818615,  83202.67062221, 106396.81752711,\n",
       "        74421.19276914, 105138.49035534,  75679.51994091,  71931.35077492,\n",
       "        49361.89873102,  61882.60830031,  61882.60830031,  61266.85088909,\n",
       "        51851.74072525,  75045.88763014,  77562.54197368,  64399.26264385,\n",
       "        65648.65236585,  60633.21857831, 108288.77700965,  85710.38751598,\n",
       "        55635.65969033,  71913.47587538,  62516.24061108, 123285.96872965,\n",
       "        84452.06034421,  73171.80304715,  70039.39129238,  51227.04586425,\n",
       "        48094.63410948,  77562.54197368,  71288.78101438,  66898.04208784,\n",
       "        54359.45761901,  75054.82507991,  65657.58981562,  68781.06412061,\n",
       "        63765.63033308,  81319.64858944,  51851.74072525,  70681.96105292,\n",
       "        55617.78479078,  54377.33251856,  56242.47965178,  75054.82507991,\n",
       "        57491.86937378,  94482.92791927,  85710.38751598,  74421.19276914,\n",
       "        63765.63033308,  60633.21857831,  86344.01982675, 102006.07860057,\n",
       "        91993.08592505,  49968.71869248,  71288.78101438,  72538.17073638,\n",
       "       117677.07482417,  67531.67439861,  55296.49991051,  68174.24415916,\n",
       "       102006.07860057,  76928.90966291, 102015.01605034, 120184.79171794,\n",
       "        61882.60830031,  78811.93169568,  64390.32519408,  75045.88763014,\n",
       "        63765.63033308, 122692.5086117 ,  52485.37303602,  97615.33967404,\n",
       "        56242.47965178,  46854.18183726,  64390.32519408,  51869.61562479,\n",
       "        66273.34722685,  54984.15248001,  66898.04208784,  54359.45761901,\n",
       "        72547.10818615,  85710.38751598,  92599.90588651,  46854.18183726,\n",
       "        48103.57155926,  91984.14847528,  64390.32519408,  64390.32519408,\n",
       "        65657.58981562,  67522.73694884,  70039.39129238,  70664.08615338,\n",
       "        68174.24415916,  61882.60830031,  96365.94995204,  58116.56423478,\n",
       "        60008.52371732,  61882.60830031,  87584.47209897, 119569.03430671,\n",
       "        53110.06789702,  51851.74072525,  65023.95750485,  82569.03831144,\n",
       "        72538.17073638,  73796.49790814,  70039.39129238,  70342.80127311,\n",
       "        66282.28467662,  87593.40954875,  54984.15248001,  85085.69265498,\n",
       "        56867.17451278, 104513.79549434,  79454.50145622,  76928.90966291,\n",
       "        52476.43558624,  93858.23305827,  69405.75898161,  66906.97953762,\n",
       "        65015.02005508,  69405.75898161,  55617.78479078,  50602.35100325,\n",
       "        76616.56223241,  79436.62655668,  94491.86536905, 100756.68887858,\n",
       "        67522.73694884,  65648.65236585,  61891.54575008,  78187.23683468,\n",
       "        76937.84711268,  68781.06412061,  64399.26264385,  72547.10818615,\n",
       "        65657.58981562,  75679.51994091,  98248.97198481,  82577.97576121,\n",
       "        90101.12644251, 104513.79549434,  87584.47209897,  84460.99779398,\n",
       "        63140.93547208,  81319.64858944,  65657.58981562,  71931.35077492,\n",
       "        51851.74072525,  65648.65236585,  62516.24061108,  70664.08615338,\n",
       "        70039.39129238,  85076.75520521,  49977.65614225,  61882.60830031,\n",
       "        63149.87292185,  62516.24061108,  87584.47209897,  76304.21480191,\n",
       "        54368.39506878,  65015.02005508,  81944.34345044,  75688.45739068,\n",
       "        71913.47587538,  70673.02360315,  53110.06789702,  84452.06034421,\n",
       "        79436.62655668,  64390.32519408,  48094.63410948,  77562.54197368,\n",
       "        85076.75520521,  90101.12644251, 117052.37996317,  57491.86937378,\n",
       "        77553.60452391,  65648.65236585,  47469.93924848,  36823.31426219,\n",
       "        54377.33251856,  71922.41332515,  89485.36903129,  70673.02360315,\n",
       "        79436.62655668,  70039.39129238, 105772.12266611,  81962.21834999,\n",
       "        64408.20009362,  78811.93169568,  53734.76275801,  61882.60830031,\n",
       "        72538.17073638, 107646.2072491 ,  54359.45761901,  53119.00534679,\n",
       "        52485.37303602,  83827.36548321,  47461.00179871,  67531.67439861,\n",
       "        90101.12644251,  60008.52371732,  96990.64481304,  49352.96128125,\n",
       "        62516.24061108,  72547.10818615,  40589.35832773,  80694.95372844,\n",
       "       100765.62632835,  59383.82885632, 104513.79549434,  49968.71869248,\n",
       "        56876.11196255,  82577.97576121,  64390.32519408, 107021.5123881 ,\n",
       "        51851.74072525,  68781.06412061,  54359.45761901,  61882.60830031,\n",
       "        64399.26264385,  57491.86937378,  69405.75898161,  54993.08992978,\n",
       "        49977.65614225,  63149.87292185, 112054.82107518,  68781.06412061,\n",
       "       107655.14469888,  73180.74049692,  63140.93547208,  43088.13777172,\n",
       "        56867.17451278,  63765.63033308,  56867.17451278,  63765.63033308,\n",
       "        51869.61562479,  44953.28490495, 122067.8137507 ,  87593.40954875,\n",
       "        96365.94995204,  71913.47587538,  44328.59004395,  72547.10818615,\n",
       "        77553.60452391,  82569.03831144,  54359.45761901,  60633.21857831,\n",
       "        87593.40954875,  63140.93547208,  73796.49790814,  61882.60830031,\n",
       "       100123.0565678 ,  51227.04586425,  94482.92791927,  60468.10741329,\n",
       "        63765.63033308,  81319.64858944,  60633.21857831,  63765.63033308,\n",
       "       104522.73294411,  61257.91343931,  81944.34345044,  41820.87315018,\n",
       "        67522.73694884,  42454.50546095,  57491.86937378,  61891.54575008,\n",
       "        84469.93524375,  56242.47965178,  56885.04941232,  54377.33251856,\n",
       "        56885.04941232,  69423.63388115,  64399.26264385,  78811.93169568,\n",
       "        44346.46494349,  54993.08992978,  59999.58626754,  81944.34345044,\n",
       "       103889.10063334,  82569.03831144,  93233.53819728,  78187.23683468,\n",
       "        90734.75875328,  60651.09347786,  79445.56400645,  92599.90588651,\n",
       "        86335.08237698,  46845.24438749,  85085.69265498,  78205.11173422,\n",
       "        38072.70398419,  58125.50168455,  75054.82507991,  65023.95750485,\n",
       "        69405.75898161,  97624.27712381,  56867.17451278, 112045.88362541,\n",
       "        58125.50168455,  61882.60830031,  53110.06789702,  54359.45761901,\n",
       "        62516.24061108,  54993.08992978,  63149.87292185,  99498.36170681,\n",
       "        75679.51994091,  60642.15602809,  59374.89140655, 114553.60051918,\n",
       "        85389.10263571,  57500.80682355,  67522.73694884,  65023.95750485,\n",
       "        93233.53819728,  87593.40954875,  61257.91343931,  63765.63033308,\n",
       "        74421.19276914,  84452.06034421,  61900.48319986,  55626.72224055,\n",
       "        80694.95372844,  77562.54197368,  59392.76630609,  61257.91343931,\n",
       "        80061.32141767,  60633.21857831,  99498.36170681,  74439.06766869,\n",
       "        52485.37303602,  75679.51994091,  85710.38751598, 106405.75497688,\n",
       "        61891.54575008,  51851.74072525,  80694.95372844,  82569.03831144,\n",
       "        71913.47587538,  51851.74072525,  64390.32519408,  76928.90966291,\n",
       "        62507.30316131,  80694.95372844,  54993.08992978,  92608.84333628,\n",
       "        63140.93547208, 100131.99401758,  70681.96105292,  57500.80682355,\n",
       "        75054.82507991,  77553.60452391,  46854.18183726,  48719.32897048,\n",
       "        58750.19654555,  51860.67817502,  81319.64858944,  47469.93924848,\n",
       "       100131.99401758,  57500.80682355,  83202.67062221,  91984.14847528,\n",
       "        58750.19654555, 119560.09685694,  90734.75875328,  70664.08615338,\n",
       "        77562.54197368,  78196.17428445,  75045.88763014,  70664.08615338,\n",
       "        55626.72224055,  76946.78456245,  63140.93547208,  71288.78101438,\n",
       "       100756.68887858,  65648.65236585,  59374.89140655,  71931.35077492,\n",
       "        67531.67439861,  75045.88763014,  81944.34345044,  72547.10818615,\n",
       "        55617.78479078,  68147.43180984,  54984.15248001,  79436.62655668,\n",
       "        68781.06412061,  78811.93169568,  94482.92791927,  75679.51994091,\n",
       "        82577.97576121,  78187.23683468,  56867.17451278,  56242.47965178,\n",
       "        64390.32519408,  48112.50900903, 118310.70713494,  65015.02005508,\n",
       "        73171.80304715,  60008.52371732,  71288.78101438,  63140.93547208,\n",
       "        54984.15248001,  84469.93524375,  96365.94995204,  52485.37303602,\n",
       "        77553.60452391,  64390.32519408,  48719.32897048,  51227.04586425,\n",
       "        63149.87292185, 102023.95350012,  70673.02360315,  69405.75898161,\n",
       "       117677.07482417,  87593.40954875,  59383.82885632,  54993.08992978,\n",
       "        73796.49790814,  50602.35100325,  59374.89140655,  61882.60830031,\n",
       "        65657.58981562,  90092.18899274,  67531.67439861,  73171.80304715,\n",
       "        95750.19254081,  70664.08615338,  99516.23660635,  68156.36925961,\n",
       "        75679.51994091,  66898.04208784,  52476.43558624,  80061.32141767,\n",
       "       104513.79549434,  79445.56400645,  63765.63033308,  82569.03831144,\n",
       "        67531.67439861,  62516.24061108,  81944.34345044,  56867.17451278,\n",
       "        66898.04208784,  75679.51994091,  52485.37303602,  56867.17451278,\n",
       "        99498.36170681,  51851.74072525,  82569.03831144,  64399.26264385,\n",
       "        98248.97198481,  64408.20009362,  66273.34722685, 117052.37996317,\n",
       "        79436.62655668,  70673.02360315,  63140.93547208, 104513.79549434,\n",
       "        44328.59004395,  65023.95750485,  44328.59004395,  64408.20009362,\n",
       "        51227.04586425,  79454.50145622,  52485.37303602,  80070.25886745,\n",
       "        73171.80304715,  58134.43913432,  57500.80682355, 117686.01227394,\n",
       "        95116.56023004,  46211.61207672,  74421.19276914,  59374.89140655,\n",
       "        51851.74072525,  54993.08992978,  60633.21857831,  54993.08992978,\n",
       "        61891.54575008,  56867.17451278,  49977.65614225,  55617.78479078,\n",
       "        68781.06412061,  78187.23683468,  65023.95750485,  83202.67062221,\n",
       "        54993.08992978,  88218.10440974,  52485.37303602,  88218.10440974,\n",
       "        74430.13021892,  44346.46494349,  79436.62655668,  59374.89140655,\n",
       "        77553.60452391,  66898.04208784,  70030.45384261,  74421.19276914,\n",
       "        90092.18899274,  87584.47209897, 104513.79549434,  54993.08992978,\n",
       "        93858.23305827,  89467.49413174,  76946.78456245,  56876.11196255,\n",
       "        62819.65059181,  74421.19276914,  75679.51994091, 101381.38373957,\n",
       "        95116.56023004,  81944.34345044,  57491.86937378,  68156.36925961,\n",
       "        80694.95372844,  46854.18183726,  65648.65236585,  45586.91721572,\n",
       "        84452.06034421,  60008.52371732,  73805.43535792,  71922.41332515,\n",
       "        91975.21102551,  65657.58981562,  64390.32519408,  97615.33967404,\n",
       "        82569.03831144,  66273.34722685,  68781.06412061,  68781.06412061,\n",
       "       114553.60051918, 108279.83955987,  78811.93169568,  55626.72224055,\n",
       "        65023.95750485,  94482.92791927,  62975.82430706,  72556.04563592,\n",
       "        81962.21834999,  54368.39506878,  78196.17428445,  59392.76630609,\n",
       "        61891.54575008,  53110.06789702,  54984.15248001,  71288.78101438,\n",
       "       112661.64103664, 102023.95350012,  48103.57155926,  81944.34345044,\n",
       "       118310.70713494,  56867.17451278,  80703.89117822,  57500.80682355,\n",
       "        54368.39506878,  75045.88763014,  50602.35100325,  94482.92791927,\n",
       "        55546.37785491, 105147.42780511,  63765.63033308, 109529.22928187,\n",
       "        61882.60830031,  82577.97576121,  71913.47587538,  73796.49790814,\n",
       "        66898.04208784,  55617.78479078,  75045.88763014,  64390.32519408,\n",
       "        34315.59736843,  31807.88047466,  48719.32897048,  52485.37303602,\n",
       "        44328.59004395,  63149.87292185,  91975.21102551,  68156.36925961,\n",
       "        96990.64481304, 118310.70713494,  62516.24061108,  93242.47564705,\n",
       "        80061.32141767,  91350.51616451,  82569.03831144,  68790.00157038,\n",
       "        80061.32141767,  64390.32519408,  84469.93524375, 117686.01227394,\n",
       "        70030.45384261,  48719.32897048,  56251.41710155,  72547.10818615,\n",
       "        56242.47965178,  72547.10818615, 105147.42780511,  61882.60830031,\n",
       "        58125.50168455,  82577.97576121,  55617.78479078,  50602.35100325,\n",
       "       107646.2072491 ,  62516.24061108,  51860.67817502,  62507.30316131,\n",
       "        90092.18899274,  51851.74072525,  47469.93924848,  54984.15248001,\n",
       "        77553.60452391,  64408.20009362,  91975.21102551,  58750.19654555,\n",
       "        53110.06789702,  61882.60830031,  79454.50145622,  64390.32519408,\n",
       "        49968.71869248,  77562.54197368,  86335.08237698,  47461.00179871,\n",
       "        73180.74049692,  52485.37303602,  84452.06034421,  87593.40954875,\n",
       "        95116.56023004,  62516.24061108,  80061.32141767,  97615.33967404,\n",
       "        79454.50145622,  60008.52371732,  62507.30316131,  60008.52371732,\n",
       "        88218.10440974,  72538.17073638,  59374.89140655,  50602.35100325,\n",
       "        52476.43558624,  89467.49413174,  54359.45761901,  58134.43913432,\n",
       "        80712.82862799, 100123.0565678 ,  75054.82507991,  76937.84711268,\n",
       "        77865.95195441,  49361.89873102,  86968.71468775,  52485.37303602,\n",
       "        53734.76275801,  59383.82885632,  89467.49413174,  70030.45384261,\n",
       "       110787.55645364,  49968.71869248,  57500.80682355,  52788.78301674,\n",
       "        52476.43558624,  80070.25886745,  49968.71869248,  60633.21857831,\n",
       "        96990.64481304,  49361.89873102,  76928.90966291,  55617.78479078,\n",
       "        70664.08615338,  59383.82885632,  72538.17073638,  54993.08992978,\n",
       "        48094.63410948,  49344.02383148,  60633.21857831,  73796.49790814,\n",
       "        65023.95750485,  82577.97576121, 104513.79549434,  83202.67062221,\n",
       "        60633.21857831,  73171.80304715,  57500.80682355, 112670.57848641,\n",
       "        82569.03831144,  55617.78479078,  77562.54197368,  90092.18899274,\n",
       "        56867.17451278,  54993.08992978,  61882.60830031,  67522.73694884,\n",
       "        48719.32897048,  79436.62655668,  64390.32519408,  90092.18899274,\n",
       "        60642.15602809,  94500.80281882,  62516.24061108,  69405.75898161,\n",
       "        65015.02005508,  72547.10818615,  66273.34722685,  52485.37303602,\n",
       "        65023.95750485,  82577.97576121,  77553.60452391,  57491.86937378,\n",
       "        57500.80682355,  65648.65236585,  37439.07167342, 102630.77346157,\n",
       "        62516.24061108,  85719.32496575,  73180.74049692,  81944.34345044,\n",
       "        65015.02005508,  64390.32519408,  53734.76275801,  61882.60830031,\n",
       "        47773.34922921,  58750.19654555,  77562.54197368,  63774.56778285,\n",
       "        73796.49790814,  51869.61562479,  67522.73694884,  84452.06034421,\n",
       "        51860.67817502,  52476.43558624,  60008.52371732,  84469.93524375,\n",
       "        52485.37303602,  70673.02360315,  71913.47587538,  78811.93169568,\n",
       "        70673.02360315,  64390.32519408,  63140.93547208,  74439.06766869,\n",
       "        65648.65236585,  56867.17451278,  49977.65614225,  65648.65236585,\n",
       "        48094.63410948,  40571.48342818, 108288.77700965, 102006.07860057,\n",
       "        71922.41332515,  55002.02737956,  95107.62278027,  76928.90966291,\n",
       "        73796.49790814,  75045.88763014,  86344.01982675,  99498.36170681,\n",
       "        80070.25886745,  82577.97576121,  65015.02005508,  80694.95372844,\n",
       "        71288.78101438,  68165.30670939,  58750.19654555,  99498.36170681,\n",
       "        44962.22235472,  96365.94995204, 102639.71091134,  68781.06412061,\n",
       "        51851.74072525,  48719.32897048,  54377.33251856,  54359.45761901,\n",
       "        62507.30316131,  78811.93169568,  81944.34345044,  67531.67439861,\n",
       "        64408.20009362,  83202.67062221,  70664.08615338,  64390.32519408,\n",
       "        94482.92791927,  46854.18183726,  49977.65614225,  87593.40954875,\n",
       "        50611.28845302,  93858.23305827,  80694.95372844,  51227.04586425,\n",
       "        65023.95750485,  79436.62655668,  76946.78456245,  56242.47965178,\n",
       "        54984.15248001,  65023.95750485,  81953.28090021,  81962.21834999,\n",
       "        54993.08992978, 113295.27334741,  77553.60452391,  73180.74049692,\n",
       "       107021.5123881 ,  59374.89140655,  68156.36925961,  82577.97576121,\n",
       "        61266.85088909,  53743.70020779,  64390.32519408,  56242.47965178,\n",
       "        68156.36925961,  90743.69620305,  87593.40954875,  93858.23305827,\n",
       "        68156.36925961,  65657.58981562,  66273.34722685,  58750.19654555,\n",
       "        62516.24061108,  58125.50168455,  65648.65236585,  67531.67439861,\n",
       "        50602.35100325,  97615.33967404,  94482.92791927,  61882.60830031,\n",
       "        59374.89140655,  57491.86937378, 117686.01227394,  72538.17073638,\n",
       "        66898.04208784,  76194.46022809,  70039.39129238,  93242.47564705,\n",
       "        55617.78479078,  48719.32897048,  98248.97198481,  49344.02383148,\n",
       "        64408.20009362,  56885.04941232,  60633.21857831, 100131.99401758,\n",
       "        67531.67439861,  69405.75898161,  66273.34722685,  48103.57155926])"
      ]
     },
     "execution_count": 42,
     "metadata": {},
     "output_type": "execute_result"
    }
   ],
   "source": [
    "reg.predict(df_q[['Age', 'CodeRevHrs']])"
   ]
  },
  {
   "cell_type": "code",
   "execution_count": 43,
   "metadata": {},
   "outputs": [],
   "source": [
    "from sklearn.metrics import mean_squared_error"
   ]
  },
  {
   "cell_type": "code",
   "execution_count": 45,
   "metadata": {},
   "outputs": [
    {
     "data": {
      "text/plain": [
       "LinearRegression()"
      ]
     },
     "execution_count": 45,
     "metadata": {},
     "output_type": "execute_result"
    }
   ],
   "source": [
    "reg = linear_model.LinearRegression()\n",
    "reg.fit(df_q[['Age']], df_q['ConvertedComp'])\n"
   ]
  },
  {
   "cell_type": "code",
   "execution_count": 52,
   "metadata": {},
   "outputs": [
    {
     "data": {
      "text/plain": [
       "1743368452.6223035"
      ]
     },
     "execution_count": 52,
     "metadata": {},
     "output_type": "execute_result"
    }
   ],
   "source": [
    "y_true = df_q['ConvertedComp']\n",
    "y_pred = reg.predict(df_q[['Age']])\n",
    "mean_squared_error(y_true, y_pred)"
   ]
  },
  {
   "cell_type": "code",
   "execution_count": 53,
   "metadata": {},
   "outputs": [
    {
     "data": {
      "text/plain": [
       "LinearRegression()"
      ]
     },
     "execution_count": 53,
     "metadata": {},
     "output_type": "execute_result"
    }
   ],
   "source": [
    "reg = linear_model.LinearRegression()\n",
    "reg.fit(df_q[['Age', 'CodeRevHrs']], df_q['ConvertedComp'])"
   ]
  },
  {
   "cell_type": "code",
   "execution_count": 54,
   "metadata": {},
   "outputs": [
    {
     "data": {
      "text/plain": [
       "1740548726.1463165"
      ]
     },
     "execution_count": 54,
     "metadata": {},
     "output_type": "execute_result"
    }
   ],
   "source": [
    "y_true = df_q['ConvertedComp']\n",
    "y_pred = reg.predict(df_q[['Age', 'CodeRevHrs']])\n",
    "mean_squared_error(y_true, y_pred)"
   ]
  },
  {
   "cell_type": "code",
   "execution_count": null,
   "metadata": {},
   "outputs": [],
   "source": []
  }
 ],
 "metadata": {
  "kernelspec": {
   "display_name": "Python 3",
   "language": "python",
   "name": "python3"
  },
  "language_info": {
   "codemirror_mode": {
    "name": "ipython",
    "version": 3
   },
   "file_extension": ".py",
   "mimetype": "text/x-python",
   "name": "python",
   "nbconvert_exporter": "python",
   "pygments_lexer": "ipython3",
   "version": "3.8.6"
  }
 },
 "nbformat": 4,
 "nbformat_minor": 2
}
