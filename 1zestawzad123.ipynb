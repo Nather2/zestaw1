{
 "cells": [
  {
   "cell_type": "code",
   "execution_count": 1,
   "metadata": {},
   "outputs": [
    {
     "name": "stdout",
     "output_type": "stream",
     "text": [
      "341.763\n"
     ]
    }
   ],
   "source": [
    "# 1)\n",
    "import pandas as pd\n",
    "import numpy as np\n",
    "df_flats=pd.read_csv(\"train.tsv\",sep='\\t')\n",
    "df_flats=pd.read_csv(\"train.tsv\",sep='\\t', names=['cena','liczba pokoi','metraz','pietro','lokalizacja','opis'])\n",
    "srednia=(df_flats['cena'].mean())\n",
    "print(round(srednia,3))\n",
    "\n",
    "df= pd.DataFrame({'srednia': [(round(srednia,3))]})\n",
    "df.to_csv(r'J:\\first-assignment\\out0.csv', index= False)"
   ]
  },
  {
   "cell_type": "code",
   "execution_count": 2,
   "metadata": {},
   "outputs": [],
   "source": [
    "# 2\n",
    "\n",
    "df_flats['cena za m']=( round((df_flats['cena']/df_flats['metraz']),3))\n",
    "\n",
    "\n",
    "df_flats2= df_flats[['liczba pokoi' , 'cena', 'cena za m']].copy()\n",
    "\n",
    "\n",
    "df_final=df_flats2[(df_flats2['liczba pokoi'] >=3) & (df_flats2['cena za m']  < (df_flats['cena za m'].mean()))]\n",
    "\n",
    "\n",
    "df_final.to_csv(r'J:\\first-assignment\\out1.csv', index= False , header=False)\n"
   ]
  },
  {
   "cell_type": "code",
   "execution_count": 3,
   "metadata": {},
   "outputs": [],
   "source": [
    "#3\n",
    "\n",
    "df_flats=pd.read_csv(\"train.tsv\",sep='\\t')\n",
    "df_description= pd.read_csv(\"description.csv\")\n",
    "df_flats=pd.read_csv(\"train.tsv\",sep='\\t', names=['cena','pokoje','metraz','liczba','lokalizacja','opis'])\n",
    "df_3=pd.merge(df_flats, df_description, on='liczba', how='left')\n",
    "\n",
    "df_3.to_csv(r'J:\\first-assignment\\out2.csv', index= False)"
   ]
  },
  {
   "cell_type": "code",
   "execution_count": null,
   "metadata": {},
   "outputs": [],
   "source": []
  }
 ],
 "metadata": {
  "kernelspec": {
   "display_name": "Python 3",
   "language": "python",
   "name": "python3"
  },
  "language_info": {
   "codemirror_mode": {
    "name": "ipython",
    "version": 3
   },
   "file_extension": ".py",
   "mimetype": "text/x-python",
   "name": "python",
   "nbconvert_exporter": "python",
   "pygments_lexer": "ipython3",
   "version": "3.7.3"
  }
 },
 "nbformat": 4,
 "nbformat_minor": 2
}
